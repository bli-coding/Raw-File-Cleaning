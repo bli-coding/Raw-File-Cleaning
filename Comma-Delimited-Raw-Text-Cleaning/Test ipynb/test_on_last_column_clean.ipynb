{
 "cells": [
  {
   "cell_type": "code",
   "execution_count": 1,
   "metadata": {},
   "outputs": [],
   "source": [
    "import re\n",
    "import pandas as pd"
   ]
  },
  {
   "cell_type": "code",
   "execution_count": 2,
   "metadata": {},
   "outputs": [],
   "source": [
    "def correct_comma_number(raw_data, col_name):\n",
    "    lines = raw_data.split(\"\\n\")\n",
    "    column_row = lines[0]\n",
    "    column_value_to_find = col_name\n",
    "    index_of_keyword = column_row.find(column_value_to_find)\n",
    "    number_of_comma_before_keyword = column_row[:index_of_keyword].count(\",\")\n",
    "\n",
    "    return number_of_comma_before_keyword"
   ]
  },
  {
   "cell_type": "code",
   "execution_count": 32,
   "metadata": {},
   "outputs": [
    {
     "name": "stdout",
     "output_type": "stream",
     "text": [
      "470\n"
     ]
    }
   ],
   "source": [
    "col_line = \"\"\"PedigreeName,UniqueID,Sex,Relationship To Proband,Date of Birth,Name: First,Name: Last,Est Age/Age at Death,Cancer Diagnosis,Diagnosis Age,Diagnosis Comments,Total # of Colon Polyps,Cancer History?,Genetic Testing?,Genetic Testing Details,Cancer confirmed/reported,Email Address,# of Breast Biopsies,Age at First Child Birth,Age at First Menstruation,Age Menstruating Ended,HRT Duration (years),Oophorectomy Age,Uterus Removal Age,Breast Biopsy,Menopause status,Oophorectomy?,Hysterectomy?,Hormone Replacement Therapy?,Height - feet,Height - inches,Weight (lbs),HRT timing,Hyperplasia without atypia?,Atypical Hyperplasia?,LCIS?,City,State,ST/Terr/Prov Name,Zip Code,Address,Race,Maternal Ancestry,Paternal Ancestry,Maternal Ancestry if Other,Paternal Ancestry if Other,Maternal Ashkenazi Jewish Ancestry,Paternal Ashkenazi Jewish Ancestry,Middle Name,Ethnicity,Phone - Preferred,Cell Phone/Alternate Phone Number,Race if other,Mastectomy?,Mastectomy Age,Breast Cancer 1 - CK14,Breast Cancer 1 - CK5.6,Result,Tumor 1 - MLH1 IHC,Tumor 1 - MSH2 IHC,Tumor 1 - MSH6 IHC,First Tested,Mutation,Tumor 1 - MSI,Sub race/ethnicity,Suffix,Agree to Terms of Use,Triple Negative - Patient Report,Family member with known mutation,Family member with cancer,Male Breast Cancer,Breast Cancer 45 or younger,Breast cancer 46-50,Two primary breast cancers,2 or more people with breast/pancreatic cancer,Ovarian Cancer,3 or more cancers on same side of family,Other History?,Breast Cancer 1 - ER,Breast Cancer 1 - PR,Breast Cancer 1 - HER2,MRN,Breast Cancer 2 - ER,Breast Cancer 2 - HER2,Breast Cancer 2 - PR,Breast Cancer 3 - ER,Breast Cancer 3 - HER2,Breast Cancer 3 - PR,Breast Cancer 2 - CK14,Breast Cancer 2 - CK5.6,Breast Cancer 3 - CK14,Breast Cancer 3 - CK5.6,Tumor 2 - MLH1 IHC,Tumor 2 - MSH2 IHC,Tumor 2 - MSH6 IHC,Tumor 2 - MSI,Tumor 3 - MLH1 IHC,Tumor 3 - MSH2 IHC,Tumor 3 - MSH6 IHC,Tumor 3 - MSI,Tumor 1 - Location,Tumor 3 - Location,Tumor 2 - Location,Tumor 1 - PMS2 IHC,Tumor 2 - PMS2 IHC,Tumor 3 - PMS2 IHC,Date of Death,Number of Polyps,Age at first polyp,Polyp type,Test type,Genetic Testing Notes,Appointment Date,Total Number of Pregnancies,Number of Live Births,Polyp Comments,Pathology,Test Date,Gene,Laboratory,Feedback - Cancer types,Feedback - Icons,Feedback - Subtext,Feedback - Data collected,Feedback - Tab organization,Feedback - Other,Feedback - Genetic Testing,Cause of Death,Appointment Outcome,Autism Spectrum Disorder,Intellectual Disability,Macrocephaly,Skin Findings,Skin Findings Details,Privacy Policy,Terms of Use,Unknown Benign Disease?,HRT Intended length of use (years),HRT - Years since last used,HRT Type,History of Mantle Field Radiation,Referring Provider,Clinic,Seen by,Insurance,Tumor 1 - Location,Rate general health today,Fears of developing cancer have affected my relationships with others.,Thoughts of cancer have affected my ability to sleep.,Thoughts of cancer have affected my work.,Concerns about cancer have affected my ability to have fun.,Fears of cancer have affected my ability to feel sexually attractive.,Worries about cancer have affected my ability to meet the needs of my family.,Cancer concerns have affected my ability to concentrate.,...have you thought about your own chances of developing cancer?,...have you worried about your own chances of developing cancer?,...have thoughts about your chances of getting cancer affected your mood?,...have thoughts about your chances of getting cancer affected your ability to perform your daily activities?,Little interest or pleasure in doing things,Feeling down, depressed, or hopeless,Trouble falling or staying asleep, or sleeping too much,Feeling tired or having little energy,Poor appetite or overeating,Feeling bad about yourself, or that you are a failure, or that you have let yourself or your family down,Trouble concentrating on things, such as reading the newspaper or watching television,Moving or speaking so slowly that other people could have noticed. Or the opposite - being so fidgety or restless that you were moving around a lot more than usual,Thoughts that you would be better off dead or hurting yourself in some way,In the LAST MONTH, have you had an anxiety attack - suddenly feeling fear or panic?,Has this ever happened before?,Do some of the attacks come suddenly out of the blue - that is, in situations where you don't expect to be nervous or uncomfortable?,Do these attacks bother you a lot, or are you worried about having another attack?,Were you short of breath?,Did your heart race, pound, or skip?,Did you have chest pain or pressure?,Did you sweat?,Did you feel as if you were choking?,Did you have hot flashes or chills?,Did you have nausea, an upset stomach, or feel like you were going to have diarrhea?,Did you feel dizzy, unsteady, or faint?,Did you have tingling or numbness in parts of your body?,Did you tremble or shake?,Were you afraid you were dying?,Feeling nervous, anxious, on edge, or worrying a lot about different things,Feeling restless so it is hard to sit still,Getting tired very easily,Muscle tension, aches, or soreness,Trouble falling asleep or staying asleep,Trouble concentrating on things, such as reading a book or watching TV,Becoming easily annoyed or irritable,How difficult have these problems made it for you to do your work, take care of things at home, or get along with other people?,Are you currently taking any medications for depression or anxiety?,Depression or anxiety medication,I feel like my chance to develop cancer is:,Compared to other people, my chance of getting cancer sometime in my life is:,How much control over your cancer risk do you feel you have?,How much uncertainty do you currently experience in your life as a result of your cancer risk?,How effective are you in coping with your cancer risk?,To what degree does your cancer risk get in the way of your developing life goals?,Would you be interested in meeting with a behavioral health consultant during your visit to discuss methods for reducing distress caused by anxiety and/or depression?,Do you have any concerns, worries or issues regarding how cancer may impact your sex life?,Would you like to meet with a behavioral health specialist to discuss this?,Pharmacy Name,Location,Pharmacy Phone Number,Allergy,Type of Reaction,Medication Name,Strength/Dose,Directions on the Bottle,Reason for Taking,Product Name,How Often You Take the Product,Do you react to latex or rubber with a rash, watery eyes or wheezing?,Please explain latex or rubber allergy,Reason for your visit,Are your periods,Reason for not menstruating,Other reason for not menstruating,Reason for hysterectomy,How many ovaries were removed?,Please list HRT drug(s) you have taken,Birth control pills,Age started BCP,Currently taking BCP,Age stopped BCP,Longest duration of BCP use,What is your current method of birth control?,Date of your last pap smear,Date of abnormal pap test,Date of pelvic ultrasound,Last pap smear result,What ovarian cancer treatment did you have?,Number of miscarriages,Number of stillbirths,Birthdates of children,Did you breast feed?,How many total months of breast feeding?,Are you planning to have more children?,Number of vaginal deliveries,Number of c/sections,Any gynecologic problems or surgeries not already described?,Gynecologic problems or surgeries please describe,Do you have pain with intercourse?,Do you have pelvic pain?,Benign Mass/Lump(s),Benign Mass/Lump(s) right,Benign Mass/Lump(s) left,Nipple Discharge right,Nipple Discharge left,Breast Pain left,Nipple Discharge,Breast Pain,Previous Breast Biopsy right,Previous Breast Biopsy left,Other Breast Surgery right,Other Breast Surgery left,Other Breast Surgery,Previous Breast Biopsy Date,Other Breast Surgery Date,Other Breast Surgery Type,Do you do breast self exams?,Breast self exams how often?,When was your last doctor breast exam?,How often do you do mammograms?,How often does a doctor do a breast exam?,Previous Mammogram?,Previous Mammogram date of most recent,High Blood Pressure,Bleeding Problems,Heart Disease,Diabetes,History of Clots,Depression or anxiety,Osteoporosis,Stroke,Uterine Fibroids,Thyroid Disease,Other major medical illnesses,Surgeries and dates,Any surgical complications?,Surgerical complications please describe,Have you ever had a bone density evaluation (DEXA scan)?,Are you currently married/partnered?,Do you live alone?,Are you currently working?,Past/current occupation(s)?,Do you follow a special diet for medical or personal reason?,Special diet please describe,General,Eyes,Ear/Nose/Throat,Heart,Lungs,Stomach,Muscle/Bones,Urinary tract,Skin,Neurologic,Mental health,Endocrine,Hematologic,Allergic/immunologic,General comments,Eyes comments,Ear/Nose/Throat comments,Heart comments,Lungs comments,Stomach comments,Muscle/Bones comments,Urinary tract comments,Skin comments,Neurologic comments,Mental health comments,Endocrine comments,Hematologic comments,Allergic/immunologic comments,What colon cancer treatment did you have?,Do you have polyps in other places, such as your stomach or small intestine?,Where polyps in other places,What cancer treatment did you have?,Thyroid Disease,Sebaceous cyst,Lipoma,Jaw tumors,Extra teeth,Extra finger,Clubfoot,Heart defect,Lots of moles,Freckles on or around your lips,Thyroid disease how treated,Sebaceous cyst where,Lipoma where,Jaw tumoes when diagnosed,Heart defect what type,Freckles how many,Trouble swallowing,Frequent or severe nausea,Frequent or severe heartburn,Frequent indigestion,Frequent or severe stomach pain,Frequent or severe vomiting,Vomiting blood,Yellow jaundice,Bowel habit change,Prolonged or frequent diarrhea,Constipation,Blood in bowel movements,Black bowel movements,Hemorrhoids (piles),Have you had any recent weight changes?,How much weight loss,Was weight loss voluntary?,How many meals do you eat each day, on average?,How many hours of sleep do you get each night, on average?,Have you had any vaginal bleeding after going through menopause?,Questionnaire Type,Pelvic ultrasound,Abnormal pap test,Benign Mass/Lump(s) past,Benign Mass/Lump(s) current,Nipple Discharge past,Nipple Discharge current,Breast Pain past,Breast Pain current,Breast Pain right,Does your doctor do breast exams?,Do you currently smoke,Have you ever smoked?,For how many years?,On average, how many packs per day?,On average, how many drinks per week?,Do you drink alcohol?,Do you have any trouble with financial hardship that you would like to discuss?,Are you interested in being on our mailing list for newsletter and research updates?,Can we contact you in the future regarding research studies that you may be eligible for?,Future research contact_mail,Future research contact_phone,Future research contact_phone details,Future research contact_email details,Future research contact_email,Date of last colonoscopy,Date diagnosed with colon polyps,Were polyps pre-cancerous (adenomas)?,How often do you have a colonoscopy?,How many hours per week do you regularly exercise?,What do you do for exercise?,Pneumonia,Tuberculosis,Liver disease, yellow jaundice, hepatitis,PSA,DRE,Penius MRI,Prostate needle biopsy,Anything else about your risk of prostate cancer?,PSA when drawn,PSA how old were you,PSA what was the result,PSA please list all,DRE ever abnormal,DRE when was it done,Penis MRI did it show anything abnormal?,Penis MRI when was it done,Prostate needle biopsy what was the result?,Prostate needle biopsy when was it done,Have you ever taken testosterone supplementation?,Longest duration of testosterone supplementation,Are you currently taking testosterone supplementation?,Have you been exposed to chemicals or radiation that you know of?,Chemicals or radiation please describe,Place of death,Other medical history,Did you quit smoking in the past 15 years?,Did you have genetic testing?,Clinic,Reason for your visit,Referring Provider,Appointment Date,Appointment Outcome,Appointment Number,Adopted?,Biological Family History Known?,Cancer confirmed/reported,Cancer Diagnosis,Diagnosis Age,Diagnosis Comments,Pathology,Reason for Referral,Appointment Type,Reason for Referral If Other,BRCA1 Test Order,BRCA2 Test Order,MLH1 MSH2 MSH6 Test Order,P16 Test Order,Metastatic Prostate Cancer,Polygenic SNP Score,Volpara Volumetric Percentage Density,VAS Percentage Density,BI-RADS ATLAS Density,Tumor 1 - Location,Help with this pedigree,Notes,Gleason score,Tumor Type 1,Tumor Type 2,Tumor Type 3,Tumor 1 - MSI Histology?,Tumor 3 - MSI Histology?,Tumor 2 - MSI Histology?,Tumor 1 - MLH1 Hypermethylated?,Tumor 2 - MLH1 Hypermethylated?,Tumor 3 - MLH1 Hypermethylated?,Tumor 1 - BRAF mutated?,Tumor 2 - BRAF mutated?,Tumor 3 - BRAF mutated?,Date Tumor Tested - 1,Date Tumor Tested - 2,Date Tumor Tested - 3,Pre-Test Risk,Post-Test Risk,For Research Follow-Up,Clinical Genetics Consult,Adult High-Risk Surveillance Clinic,BOCP,GICP,BOCP/GICP (Lynch Syndrome Clinic),HMGC,Imaging,Labs,UW Digestive Health,OTHER,If Other:,AB1,AB2,AB3,AB4,AB5,AB6,AB7,AB8,AB9,AB10,AB11,AB12,AB13,AB14,AB15,AB16,AB17,AB18,AB19,AB20,AB21,AB22,AB23,AB24,AB25,AB26,AB27,AB28,AB29,AB30,AB31,AB32,AB33,AB34,AB35,AB36,AB37,AB38,AB39,AB40,AB41,AB42,AB43,AB44,AB45,AB46,AB47,AB48,AB49,AB50,AB51,AB52,AB53,AB54,AB55,AB56,AB57,AB58,AB59,AB60,AB61,AB62,AB63,AB64,AB65,AB66,AB67,AB68,AB69,AB70,AB71,AB72,AB73,AB74,AB75,AB76,AB77,AB78,AB79,AB80,AB81,AB82,AB83,AB84,AB85,AB86,AB87,AB88,AB89,AB90,AB91,AB92,AB93,AB94,AB95,AB96,AB97,AB98,AB99,AB100,AB101,AB102,AB103,AB104,AB105,AB106,AB107,AB108,AB109,AB110,AB111,AB112,AB113,AB114,AB115,AB116,AB117,AB118,AB119,AB120,AB121,AB122,AB123,AB124,AB125,AB126,AB127,AB128,AB129,AB130,AB131,AB132,AB133,AB134,AB135,AB136,AB137,AB138,AB139,AB140,AB141,AB142,AB143,AB144,AB145,AB146,AB147,AB148,AB149,AB150,AB151,AB152,AB153,AB154,AB155,AB156,AB157,AB158,AB159,AB160,AB161,AB162,AB163,AB164,AB165,AB166,AB167,AB168,AB169,AB170,AB171,AB172,AB173,AB174,AB175,AB176,AB177,AB178,AB179,AB180,AB181,AB182,AB183,AB184,AB185,AB186,AB187,AB188,AB189,AB190,AB191,AB192,AB193,AB194,AB195,AB196,AB197,AB198,AB199,AB200,AB201,AB202,AB203,AB204,AB205,AB206,AB207,AB208,AB209,AB210,AB211,AB212,AB213,AB214,AB215,AB216,AB217,AB218,AB219,AB220,AB221,AB222,AB223,AB224,AB225,AB226,AB227,AB228,AB229,AB230,AB231,AB232,AB233,AB234,AB235,AB236,AB237,AB238,AB239,AB240,AB241,AB242,AB243,AB244,AB245,AB246,AB247,AB248,AB249,AB250,AB251,AB252,AB253,AB254,AB255,AB256,AB257,AB258,AB259,AB260,AB261,AB262,AB263,AB264,AB265,AB266,AB267,AB268,AB269,AB270,AB271,AB272,AB273,AB274,AB275,AB276,AB277,AB278,AB279,AB280,AB281,AB282,AB283,AB284,AB285,AB286,AB287,AB288,AB289,AB290,AB291,AB292,AB293,AB294,AB295,AB296,AB297,AB298,AB299,AB300,AB301,AB302,AB303,AB304,AB305,AB306,AB307,AB308,AB309,AB310,AB311,AB312,AB313,AB314,AB315,AB316,AB317,AB318,AB319,AB320,AB321,AB322,AB323,AB324,AB325,AB326,AB327,AB328,AB329,AB330,AB331,AB332,AB333,AB334,AB335,AB336,AB337,AB338,AB339,AB340,AB341,AB342,AB343,AB344,AB345,AB346,AB347,AB348,AB349,AB350,AB351,AB352,AB353,AB354,AB355,AB356,AB357,AB358,AB359,AB360,AB361,AB362,AB363,AB364,AB365,AB366,AB367,AB368,AB369,AB370,AB371,AB372,AB373,AB374,AB375,AB376,AB377,AB378,AB379,AB380,AB381,AB382,AB383,AB384,AB385,AB386,AB387,AB388,AB389,AB390,AB391,AB392,AB393,AB394,AB395,AB396,AB397,AB398,AB399,AB400,AB401,AB402,AB403,AB404,AB405,AB406,AB407,AB408,AB409,AB410,AB411,AB412,AB413,AB414,AB415,AB416,AB417,AB418,AB419,AB420,AB421,AB422,AB423,AB424,AB425,AB426,AB427,AB428,AB429,AB430,AB431,AB432,AB433,AB434,AB435,AB436,AB437,AB438,AB439,AB440,AB441,AB442,AB443,AB444,AB445,AB446,AB447,AB448,AB449,AB450,AB451,AB452,AB453,AB454,AB455,AB456,AB457,AB458,AB459,AB460,AB461,AB462,AB463\n",
    "\"\"\"\n",
    "col_name = \"VAS Percentage Density\"  # <- needs to define\n",
    "key_pattern = \"N|n\"  # <- needs to define\n",
    "\n",
    "correct_count = correct_comma_number(col_line, col_name)\n",
    "print(correct_count)"
   ]
  },
  {
   "cell_type": "code",
   "execution_count": 6,
   "metadata": {},
   "outputs": [],
   "source": [
    "test_line = \"\"\"John,9,Female,Proband,2/19/1989,Doe,John,,,,,,Yes,Tested Positive,  1 Tumor ER positive/ 1 Tumor Triple Neg / BRCA1 Positive,,John@msn.com,,,,,,,,,,No,No,No,,,,,,,,addressXXXX,,,,,Not Sure,Not Sure,,Not Hispanic or Latino,,123-456-7890,,Both,44,,,,,,,,,,,,N,Yes,,,N,N,N,N,N,N,N,,,,,,,,,,,,,,,,,,,,,,,,,,,,,,,,,,,,,0,,,,,,,,,,,,,,,,N,N,,,,http://thisisawebsitedemo.pdf,,,,,N,,,,,,,,,,,,,,,,,,,,,,,,,,,,,,,,,,,,,,,,,,,,,,,,,,,,,,,,,,,,,,,,,,,,,,,,,,,,,,,,,,,,,,,,,,,,,,,,,,,,,,,,,N,N,N,N,N,,,N,N,N,N,,,,,,,,,,,,N,N,N,N,N,N,N,N,N,N,,,,,,,,,,,,,,,,,,,,,,,,,,,,,,,,,,,,,,,,,,,,,,,,,,,,,,,,,,,,,,,,,,,,,,,,,,,,,,,,,,,N,N,N,N,N,N,N,,,,,,,,,,,N,N,,,N,,,,,,,N,N,N,,,,,,,,,,,,,,,,,,,,,,,,,,,,,,,,,,,,,,,,,,,,,,,,,,,N,,,,,,,,,,,,,,,,,,,,,N,N,N,N,N,N,N,N,N,N,,,,,,,,,,,,,,,,,,,,,,,,,,,,,,,,,,,,,,,,,,,,,,,,,,,,,,,,,,,,,,,,,,,,,,,,,,,,,,,,,,,,,,,,,,,,,,,,,,,,,,,,,,,,,,,,,,,,,,,,,,,,,,,,,,,,,,,,,,,,,,,,,,,,,,,,,,,,,,,,,,,,,,,,,,,,,,,,,,,,,,,,,,,,,,,,,,,,,,,,,,,,,,,,,,,,,,,,,,,,,,,,,,,,,,,,,,,,,,,,,,,,,,,,,,,,,,,,,,,,,,,,,,,,,,,,,,,,,,,,,,,,,,,,,,,,,,,,,,,,,,,,,,,,,,,,,,,,,,,,,,,,,,,,,,,,,,,,,,,,,,,,,,,,,,,,,,,,,,,,,,,,,,,,,,,,,,,,,,,,,,,,,,,,,,,,,,,,,,,,,,,,,,,,,,,,,,,,,,,,,,,,,,,,,,,,,,,,,,,,,,,,,,,,,,,,,,,,,,,,,,,,,,,,,,,,,,,,,,,,,,,,,,,,,,,,,,,,,\n",
    "John,10,Male,Father,,Doee,Mac,71,,,,,Yes,Not Tested,,,,,,,,,,,,,,,,,,,,,,,,,,,,,,,,,,,,,,,,,,,,,,,,,,,,,N,,,,N,N,N,N,N,N,N,,,,,,,,,,,,,,,,,,,,,,,,,,,,,,,,,,,,,,,,,,,,,,,,,,,,,N,N,,,,http://thisisawebsitedemo.pdf,,,,,N,,,,,,,,,,,,,,,,,,,,,,,,,,,,,,,,,,,,,,,,,,,,,,,,,,,,,,,,,,,,,,,,,,,,,,,,,,,,,,,,,,,,,,,,,,,,,,,,,,,,,,,,,N,N,N,N,N,,,N,N,N,N,,,,,,,,,,,,N,N,N,N,N,N,N,N,N,N,,,,,,,,,,,,,,,,,,,,,,,,,,,,,,,,,,,,,,,,,,,,,,,,,,,,,,,,,,,,,,,,,,,,,,,,,,,,,,,,,,,N,N,N,N,N,N,N,,,,,,,,,,,N,N,,,N,,,,,,,N,N,N,,,,,,,,,,,,,,,,,,,,,,,,,,,,,,,,,,,,,,,,,,,,,,,,,,,N,,,,,,,,,,,,,,,,,,,,,N,N,N,N,N,N,N,N,N,N,,,,,,,,,,,,,,,,,,,,,,,,,,,,,,,,,,,,,,,,,,,,,,,,,,,,,,,,,,,,,,,,,,,,,,,,,,,,,,,,,,,,,,,,,,,,,,,,,,,,,,,,,,,,,,,,,,,,,,,,,,,,,,,,,,,,,,,,,,,,,,,,,,,,,,,,,,,,,,,,,,,,,,,,,,,,,,,,,,,,,,,,,,,,,,,,,,,,,,,,,,,,,,,,,,,,,,,,,,,,,,,,,,,,,,,,,,,,,,,,,,,,,,,,,,,,,,,,,,,,,,,,,,,,,,,,,,,,,,,,,,,,,,,,,,,,,,,,,,,,,,,,,,,,,,,,,,,,,,,,,,,,,,,,,,,,,,,,,,,,,,,,,,,,,,,,,,,,,,,,,,,,,,,,,,,,,,,,,,,,,,,,,,,,,,,,,,,,,,,,,,,,,,,,,,,,,,,,,,,,,,,,,,,,,,,,,,,,,,,,,,,,,,,,,,,,,,,,,,,,,,,,,,,,,,,,,,,,,,,,,,,,,,,,,,,,,,,,,\n",
    "John,11,Female,Mother,,Doeee,Big Mac,70,,,,,Yes,Tested Positive,BRCA 1 positive,,,,,,,,,,,,,,,,,,,,,,,,,,,,,,,,,,,,,,,,,,,,,,,,,,,,N,,,,N,N,N,N,N,N,N,,,,,,,,,,,,,,,,,,,,,,,,,,,,,,,,,,,,,,,,,,,,,,,,,,,,,N,N,,,,http://thisisawebsitedemo.pdf,,,,,N,,,,,,,,,,,,,,,,,,,,,,,,,,,,,,,,,,,,,,,,,,,,,,,,,,,,,,,,,,,,,,,,,,,,,,,,,,,,,,,,,,,,,,,,,,,,,,,,,,,,,,,,,N,N,N,N,N,,,N,N,N,N,,,,,,,,,,,,N,N,N,N,N,N,N,N,N,N,,,,,,,,,,,,,,,,,,,,,,,,,,,,,,,,,,,,,,,,,,,,,,,,,,,,,,,,,,,,,,,,,,,,,,,,,,,,,,,,,,,N,N,N,N,N,N,N,,,,,,,,,,,N,N,,,N,,,,,,,N,N,N,,,,,,,,,,,,,,,,,,,,,,,,,,,,,,,,,,,,,,,,,,,,,,,,,,,N,,,,,,,,,,,,,,,,,,,,,N,N,N,N,N,N,N,N,N,N,,,,,,,,,,,,,,,,,,,,,,,,,,,,,,,,,,,,,,,,,,,,,,,,,,,,,,,,,,,,,,,,,,,,,,,,,,,,,,,,,,,,,,,,,,,,,,,,,,,,,,,,,,,,,,,,,,,,,,,,,,,,,,,,,,,,,,,,,,,,,,,,,,,,,,,,,,,,,,,,,,,,,,,,,,,,,,,,,,,,,,,,,,,,,,,,,,,,,,,,,,,,,,,,,,,,,,,,,,,,,,,,,,,,,,,,,,,,,,,,,,,,,,,,,,,,,,,,,,,,,,,,,,,,,,,,,,,,,,,,,,,,,,,,,,,,,,,,,,,,,,,,,,,,,,,,,,,,,,,,,,,,,,,,,,,,,,,,,,,,,,,,,,,,,,,,,,,,,,,,,,,,,,,,,,,,,,,,,,,,,,,,,,,,,,,,,,,,,,,,,,,,,,,,,,,,,,,,,,,,,,,,,,,,,,,,,,,,,,,,,,,,,,,,,,,,,,,,,,,,,,,,,,,,,,,,,,,,,,,,,,,,,,,,,,,,,,,,,\n",
    "John,12,Female,Maternal Grandmother,,Doeeee ,Bigg Macc,58,,,,,No,Not Tested,,,,,,,,,,,,,,,,,,,,,,,,,,,,,,,,,,,,,,,,,,,,,,,,,,,,,N,,,,N,N,N,N,N,N,N,,,,,,,,,,,,,,,,,,,,,,,,,,,,,,,,,,,,,,,,,,,,,,,,,,,,,N,N,,,,http://thisisawebsitedemo.pdf,,,,,N,,,,,,,,,,,,,,,,,,,,,,,,,,,,,,,,,,,,,,,,,,,,,,,,,,,,,,,,,,,,,,,,,,,,,,,,,,,,,,,,,,,,,,,,,,,,,,,,,,,,,,,,,N,N,N,N,N,,,N,N,N,N,,,,,,,,,,,,N,N,N,N,N,N,N,N,N,N,,,,,,,,,,,,,,,,,,,,,,,,,,,,,,,,,,,,,,,,,,,,,,,,,,,,,,,,,,,,,,,,,,,,,,,,,,,,,,,,,,,N,N,N,N,N,N,N,,,,,,,,,,,N,N,,,N,,,,,,,N,N,N,,,,,,,,,,,,,,,,,,,,,,,,,,,,,,,,,,,,,,,,,,,,,,,,,,,N,,,,,,,,,,,,,,,,,,,,,N,N,N,N,N,N,N,N,N,N,,,,,,,,,,,,,,,,,,,,,,,,,,,,,,,,,,,,,,,,,,,,,,,,,,,,,,,,,,,,,,,,,,,,,,,,,,,,,,,,,,,,,,,,,,,,,,,,,,,,,,,,,,,,,,,,,,,,,,,,,,,,,,,,,,,,,,,,,,,,,,,,,,,,,,,,,,,,,,,,,,,,,,,,,,,,,,,,,,,,,,,,,,,,,,,,,,,,,,,,,,,,,,,,,,,,,,,,,,,,,,,,,,,,,,,,,,,,,,,,,,,,,,,,,,,,,,,,,,,,,,,,,,,,,,,,,,,,,,,,,,,,,,,,,,,,,,,,,,,,,,,,,,,,,,,,,,,,,,,,,,,,,,,,,,,,,,,,,,,,,,,,,,,,,,,,,,,,,,,,,,,,,,,,,,,,,,,,,,,,,,,,,,,,,,,,,,,,,,,,,,,,,,,,,,,,,,,,,,,,,,,,,,,,,,,,,,,,,,,,,,,,,,,,,,,,,,,,,,,,,,,,,,,,,,,,,,,,,,,,,,,,,,,,,,,,,,,,,\n",
    "John,13,Male,Maternal Grandfather,,Doeeeee,Mac,69,,,,,No,Not Tested,,,,,,,,,,,,,,,,,,,,,,,,,,,,,,,,,,,,,,,,,,,,,,,,,,,,,N,\"\"\""
   ]
  },
  {
   "cell_type": "code",
   "execution_count": 36,
   "metadata": {},
   "outputs": [],
   "source": [
    "def extract_counts_and_values_between_commas(\n",
    "    raw_data, correct_comma_count, key_pattern\n",
    "):\n",
    "    # Split the raw data into lines\n",
    "    lines = raw_data.split(\"\\n\")\n",
    "\n",
    "    # Initialize empty lists to store the comma counts and values between the first and second comma\n",
    "\n",
    "    Line_need_clean = []\n",
    "    Line_untouched = []\n",
    "\n",
    "    column_row = lines[0]\n",
    "    new_column_row = \"num_count,\" + column_row\n",
    "\n",
    "    Line_need_clean.append(new_column_row)\n",
    "    Line_untouched.append(new_column_row)\n",
    "\n",
    "    # Iterate through the lines\n",
    "    for line in lines[1:]:\n",
    "        # Find the position of the first \"http:\"\n",
    "        cap_line = line.upper()\n",
    "        key_position = cap_line.rfind(key_pattern)\n",
    "        print(key_position)\n",
    "\n",
    "        if key_position != -1:\n",
    "            # Count the commas before the first \"http:\"\n",
    "            comma_count = line[:key_position+1].count(\",\")\n",
    "            print(comma_count)\n",
    "            if comma_count != correct_comma_count:\n",
    "                Line_need_clean.append(\n",
    "                    str(comma_count - correct_comma_count) + \",\" + line\n",
    "                )\n",
    "            else:\n",
    "                Line_untouched.append(\n",
    "                    str(comma_count - correct_comma_count) + \",\" + line\n",
    "                )\n",
    "        else:\n",
    "            Line_need_clean.append(\"-1000,\" + line)\n",
    "\n",
    "    Leave_alone_df = \"\\n\".join(Line_untouched)\n",
    "    Need_clean_df = \"\\n\".join(Line_need_clean)\n",
    "\n",
    "    return Leave_alone_df, Need_clean_df"
   ]
  },
  {
   "cell_type": "code",
   "execution_count": 37,
   "metadata": {},
   "outputs": [
    {
     "name": "stdout",
     "output_type": "stream",
     "text": [
      "689\n",
      "469\n",
      "720\n",
      "469\n",
      "714\n",
      "469\n",
      "128\n",
      "65\n"
     ]
    }
   ],
   "source": [
    "Leave_alone_df, Need_clean_df = extract_counts_and_values_between_commas(test_line, correct_count,key_pattern = \",N,\")"
   ]
  },
  {
   "cell_type": "code",
   "execution_count": null,
   "metadata": {},
   "outputs": [],
   "source": []
  }
 ],
 "metadata": {
  "kernelspec": {
   "display_name": "Python 3",
   "language": "python",
   "name": "python3"
  },
  "language_info": {
   "codemirror_mode": {
    "name": "ipython",
    "version": 3
   },
   "file_extension": ".py",
   "mimetype": "text/x-python",
   "name": "python",
   "nbconvert_exporter": "python",
   "pygments_lexer": "ipython3",
   "version": "3.9.6"
  },
  "orig_nbformat": 4
 },
 "nbformat": 4,
 "nbformat_minor": 2
}
